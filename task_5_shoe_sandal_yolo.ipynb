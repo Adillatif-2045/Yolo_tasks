{
 "cells": [
  {
   "cell_type": "code",
   "execution_count": 1,
   "id": "52f88836",
   "metadata": {},
   "outputs": [],
   "source": [
    "import os\n",
    "import cv2"
   ]
  },
  {
   "cell_type": "code",
   "execution_count": 3,
   "id": "00abf2bc",
   "metadata": {},
   "outputs": [],
   "source": [
    "# input = '.DS_Store'\n",
    "# shoes_dir = 'shoes/'\n",
    "# sandal_dir='sandals/'\n",
    "# boots_dir='boots/'\n"
   ]
  },
  {
   "cell_type": "code",
   "execution_count": 8,
   "id": "5066109d",
   "metadata": {},
   "outputs": [],
   "source": [
    "import os\n",
    "import shutil\n",
    "\n",
    "# Define the path to your images folder\n",
    "images_folder = 'shoe_boot_sandal/'\n",
    "\n",
    "# Define the path to your output folders\n",
    "shoes_folder = 'shoes/'\n",
    "sandals_folder = 'sandals/'\n",
    "boots_folder = 'boots/'\n",
    "\n",
    "\n",
    "\n",
    "# Loop through all the files in the images folder\n",
    "for filename in os.listdir(images_folder):\n",
    "    if filename.endswith('.DS_Store'):\n",
    "        # Ignore the .DS_Store file\n",
    "        continue\n",
    "\n",
    "    # Get the binary number from the file name\n",
    "    binary_number = filename.split('.')[0]\n",
    "\n",
    "    # Determine the type of shoe based on the binary number\n",
    "    if binary_number.startswith('01'):\n",
    "        # This is a shoe image\n",
    "        output_folder = shoes_folder\n",
    "    elif binary_number.startswith('10'):\n",
    "        # This is a sandal image\n",
    "        output_folder = sandals_folder\n",
    "    elif binary_number.startswith('11'):\n",
    "        # This is a boot image\n",
    "        output_folder = boots_folder\n",
    "    else:\n",
    "        # Ignore this file, it doesn't match any of the categories\n",
    "        continue\n",
    "\n",
    "    # Copy the file to the appropriate output folder\n",
    "    shutil.copyfile(os.path.join(images_folder, filename), os.path.join(output_folder, filename))\n",
    "\n",
    "    "
   ]
  },
  {
   "cell_type": "code",
   "execution_count": null,
   "id": "848497e5",
   "metadata": {},
   "outputs": [],
   "source": []
  }
 ],
 "metadata": {
  "kernelspec": {
   "display_name": "Python 3 (ipykernel)",
   "language": "python",
   "name": "python3"
  },
  "language_info": {
   "codemirror_mode": {
    "name": "ipython",
    "version": 3
   },
   "file_extension": ".py",
   "mimetype": "text/x-python",
   "name": "python",
   "nbconvert_exporter": "python",
   "pygments_lexer": "ipython3",
   "version": "3.11.2"
  }
 },
 "nbformat": 4,
 "nbformat_minor": 5
}
